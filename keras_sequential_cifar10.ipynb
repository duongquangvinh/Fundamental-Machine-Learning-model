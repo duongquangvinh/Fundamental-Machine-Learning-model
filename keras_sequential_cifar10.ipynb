{
  "nbformat": 4,
  "nbformat_minor": 0,
  "metadata": {
    "colab": {
      "name": "keras_sequential_cifar10.ipynb",
      "provenance": [],
      "authorship_tag": "ABX9TyMz/Xhx6XS9I9i0Womsw/As",
      "include_colab_link": true
    },
    "kernelspec": {
      "name": "python3",
      "display_name": "Python 3"
    },
    "language_info": {
      "name": "python"
    },
    "accelerator": "GPU"
  },
  "cells": [
    {
      "cell_type": "markdown",
      "metadata": {
        "id": "view-in-github",
        "colab_type": "text"
      },
      "source": [
        "<a href=\"https://colab.research.google.com/github/duongquangvinh/Fundamental-Machine-Learning-model/blob/main/keras_sequential_cifar10.ipynb\" target=\"_parent\"><img src=\"https://colab.research.google.com/assets/colab-badge.svg\" alt=\"Open In Colab\"/></a>"
      ]
    },
    {
      "cell_type": "code",
      "metadata": {
        "id": "vScf2yCWVe2z"
      },
      "source": [
        "from tensorflow.keras.models import Model\n",
        "from tensorflow.keras.models import Sequential\n",
        "from tensorflow.keras.layers import Conv2D, Dense, MaxPool2D, Dropout, Flatten\n",
        "from tensorflow.keras.losses import categorical_crossentropy\n",
        "from tensorflow.keras.preprocessing.image import ImageDataGenerator\n",
        "from tensorflow.keras.datasets import cifar10\n",
        "from sklearn.preprocessing import LabelBinarizer\n",
        "from tensorflow.keras.utils import to_categorical\n",
        "from tensorflow.keras.optimizers import Adam\n",
        "import os"
      ],
      "execution_count": 1,
      "outputs": []
    },
    {
      "cell_type": "code",
      "metadata": {
        "id": "aqtfBzPBOpix"
      },
      "source": [
        "((trainX, trainY), (testX, testY)) = cifar10.load_data()\n",
        "\n",
        "# scale the data to the range [0, 1]\n",
        "trainX = trainX.astype(\"float32\") / 255.0\n",
        "testX = testX.astype(\"float32\") / 255.0\n",
        "\n",
        "# Convert class vectors to binary class matrices.\n",
        "num_classes = 10\n",
        "trainY = to_categorical(trainY, num_classes)\n",
        "testY = to_categorical(testY, num_classes)\n",
        "\n",
        "# Data normalization\n",
        "trainX = trainX.astype('float32')\n",
        "testX = testX.astype('float32')\n",
        "trainX /= 255\n",
        "testX /= 255\n",
        "\n",
        "# Data augmentation\n",
        "datagen = ImageDataGenerator(width_shift_range=0.1, height_shift_range=0.1, horizontal_flip=True)"
      ],
      "execution_count": 2,
      "outputs": []
    },
    {
      "cell_type": "code",
      "metadata": {
        "id": "UGNy01EbEfOY"
      },
      "source": [
        "class LeNet(Sequential):\n",
        "    def __init__(self):\n",
        "        super(LeNet, self).__init__()\n",
        "        self.add(Conv2D(filters=32, kernel_size=(5,5), activation='relu', input_shape=(32, 32, 3), padding=\"same\"))\n",
        "        self.add(MaxPool2D(strides=2))\n",
        "        self.add(Conv2D(filters=48, kernel_size=(5, 5), activation='relu', padding='valid'))\n",
        "        self.add(MaxPool2D(strides=2))\n",
        "        self.add(Flatten())\n",
        "        self.add(Dense(256, activation='relu'))\n",
        "        self.add(Dense(84, activation='relu'))\n",
        "        self.add(Dense(10, activation='softmax'))\n",
        "\n",
        "        self.compile(optimizer=Adam(learning_rate=5e-4),\n",
        "                    loss=categorical_crossentropy,\n",
        "                    metrics=['accuracy'])"
      ],
      "execution_count": 3,
      "outputs": []
    },
    {
      "cell_type": "code",
      "metadata": {
        "colab": {
          "base_uri": "https://localhost:8080/"
        },
        "id": "SB-_GVvjQFgc",
        "outputId": "5427a60a-0c5b-40bf-b8b2-edc36765a888"
      },
      "source": [
        "net = LeNet()\n",
        "history = net.fit(datagen.flow(trainX, trainY, batch_size=32),\n",
        "                  steps_per_epoch=len(trainX)/32,\n",
        "\t            validation_data=(testX, testY),\n",
        "\t            epochs=5, verbose=1)\n",
        "\n",
        "checkpoint_dir = \"./checkpoint/\"\n",
        "os.makedirs(checkpoint_dir, exist_ok=True)\n",
        "\n",
        "net.save_weights(os.path.join(checkpoint_dir, \"keras_cifar10.h5\"))\n",
        "\n",
        "# evaluate model and save\n",
        "_, acc = net.evaluate(testX, testY, verbose=1)\n",
        "print(f\"Accuracy: {acc*100}\")"
      ],
      "execution_count": 5,
      "outputs": [
        {
          "output_type": "stream",
          "name": "stdout",
          "text": [
            "Epoch 1/5\n",
            "1562/1562 [==============================] - 100s 64ms/step - loss: 2.0741 - accuracy: 0.2292 - val_loss: 1.9024 - val_accuracy: 0.3071\n",
            "Epoch 2/5\n",
            "1562/1562 [==============================] - 99s 63ms/step - loss: 1.8453 - accuracy: 0.3279 - val_loss: 1.6810 - val_accuracy: 0.3935\n",
            "Epoch 3/5\n",
            "1562/1562 [==============================] - 99s 63ms/step - loss: 1.6962 - accuracy: 0.3851 - val_loss: 1.5806 - val_accuracy: 0.4341\n",
            "Epoch 4/5\n",
            "1562/1562 [==============================] - 99s 63ms/step - loss: 1.6157 - accuracy: 0.4187 - val_loss: 1.5139 - val_accuracy: 0.4609\n",
            "Epoch 5/5\n",
            "1562/1562 [==============================] - 99s 63ms/step - loss: 1.5592 - accuracy: 0.4397 - val_loss: 1.4551 - val_accuracy: 0.4831\n",
            "313/313 [==============================] - 5s 16ms/step - loss: 1.4551 - accuracy: 0.4831\n",
            "Accuracy: 48.30999970436096\n"
          ]
        }
      ]
    },
    {
      "cell_type": "code",
      "metadata": {
        "id": "dnzNwjKsRypx"
      },
      "source": [
        ""
      ],
      "execution_count": null,
      "outputs": []
    }
  ]
}