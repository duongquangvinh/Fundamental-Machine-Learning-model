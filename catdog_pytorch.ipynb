{
  "nbformat": 4,
  "nbformat_minor": 0,
  "metadata": {
    "colab": {
      "name": "catdog_pytorch.ipynb",
      "provenance": [],
      "mount_file_id": "17Gu3WQFi0p1mLZwN8KssbxkBaKCltNvA",
      "authorship_tag": "ABX9TyP1HVh1YDqlmIzj3fiChSzB",
      "include_colab_link": true
    },
    "kernelspec": {
      "name": "python3",
      "display_name": "Python 3"
    },
    "language_info": {
      "name": "python"
    },
    "accelerator": "GPU"
  },
  "cells": [
    {
      "cell_type": "markdown",
      "metadata": {
        "id": "view-in-github",
        "colab_type": "text"
      },
      "source": [
        "<a href=\"https://colab.research.google.com/github/duongquangvinh/Fundamental-Machine-Learning-model/blob/main/catdog_pytorch.ipynb\" target=\"_parent\"><img src=\"https://colab.research.google.com/assets/colab-badge.svg\" alt=\"Open In Colab\"/></a>"
      ]
    },
    {
      "cell_type": "code",
      "metadata": {
        "id": "BkfZ6RzVwZUI"
      },
      "source": [
        "import numpy as np\n",
        "import pandas as pd\n",
        "import os\n",
        "import torch\n",
        "import torch.optim as optim\n",
        "import torch.nn as nn\n",
        "import cv2\n",
        "import torchvision\n",
        "import torch.nn.functional as F\n",
        "from torchvision import transforms\n",
        "import copy\n",
        "import tqdm\n",
        "from PIL import Image\n",
        "import random"
      ],
      "execution_count": 22,
      "outputs": []
    },
    {
      "cell_type": "code",
      "metadata": {
        "id": "MA6Xd2xK39g-"
      },
      "source": [
        "transform_train = transforms.Compose([transforms.Resize((224,224)),\n",
        "                                transforms.RandomHorizontalFlip(0.5),\n",
        "                                transforms.ToTensor(),\n",
        "                                transforms.Normalize((0.5, 0.5, 0.5), (0.5, 0.5, 0.5))])\n",
        "\n",
        "transform_test = transforms.Compose([transforms.Resize((224,224)),\n",
        "                                     transforms.ToTensor(),\n",
        "                                     transforms.Normalize((0.5, 0.5, 0.5), (0.5, 0.5, 0.5))])"
      ],
      "execution_count": 41,
      "outputs": []
    },
    {
      "cell_type": "markdown",
      "metadata": {
        "id": "cpu7BJL-5ivR"
      },
      "source": [
        "## Train Test Split"
      ]
    },
    {
      "cell_type": "code",
      "metadata": {
        "id": "K3-RkZcPkEbe"
      },
      "source": [
        "!unzip drive/MyDrive/Dataset/dog_cat.zip"
      ],
      "execution_count": null,
      "outputs": []
    },
    {
      "cell_type": "code",
      "metadata": {
        "id": "dsYG9orO5RRh"
      },
      "source": [
        "data_dir = \"./dog_cat\"\n",
        "dog = []\n",
        "cat = []\n",
        "for img in os.listdir(data_dir):\n",
        "    label = img.split(\".\")[0]\n",
        "    img_path = os.path.join(data_dir, img)\n",
        "    if label == \"dog\":\n",
        "        dog.append(img_path)\n",
        "    else:\n",
        "        cat.append(img_path)\n",
        "\n",
        "rate = 0.2\n",
        "test_cat = random.sample(cat, int(rate*len(cat)))\n",
        "test_dog = random.sample(dog, int(rate*len(dog)))\n",
        "\n",
        "train_cat = list(set(cat) ^ set(test_cat))\n",
        "train_dog = list(set(dog) ^ set(test_dog))\n",
        "\n",
        "trainfile = train_cat + train_dog\n",
        "testfile = test_cat + test_dog\n",
        "print(testfile)"
      ],
      "execution_count": null,
      "outputs": []
    },
    {
      "cell_type": "markdown",
      "metadata": {
        "id": "5cb-8_92LMfJ"
      },
      "source": [
        "## Data Preprocess"
      ]
    },
    {
      "cell_type": "code",
      "metadata": {
        "id": "dNr7u2lJQcZ_"
      },
      "source": [
        "class CatDogDataset(torch.utils.data.Dataset):\n",
        "    def __init__(self, data_dir, transform = None):\n",
        "        self.data_dir = data_dir\n",
        "        self.transform = transform\n",
        "    \n",
        "    def __len__(self):\n",
        "        return len(self.data_dir)\n",
        "    \n",
        "    def __getitem__(self, idx):\n",
        "        img_path = self.data_dir[idx]\n",
        "        img = Image.open(img_path)\n",
        "        img_transform = self.transform(img)\n",
        "        label = img_path.split(\"/\")[-1].split(\".\")[0]\n",
        "        if label == \"dog\":\n",
        "            label = 1\n",
        "        elif label == \"cat\":\n",
        "            label = 0\n",
        "        return img_transform, label"
      ],
      "execution_count": 6,
      "outputs": []
    },
    {
      "cell_type": "code",
      "metadata": {
        "id": "8KN1wm4s50X8"
      },
      "source": [
        "trainset = CatDogDataset(trainfile, transform=transform_train)\n",
        "trainloader = torch.utils.data.DataLoader(trainset, batch_size=32, shuffle=True, num_workers=2, drop_last=True)\n",
        "\n",
        "testset = CatDogDataset(testfile, transform=transform_test)\n",
        "testloader = torch.utils.data.DataLoader(testset, batch_size=32, shuffle=False, num_workers=2, drop_last=True)"
      ],
      "execution_count": 42,
      "outputs": []
    },
    {
      "cell_type": "code",
      "metadata": {
        "colab": {
          "base_uri": "https://localhost:8080/"
        },
        "id": "Mz45epupK-sS",
        "outputId": "b5922a56-0b08-462c-f3bd-904b40e62092"
      },
      "source": [
        "testset[0][0].shape"
      ],
      "execution_count": 43,
      "outputs": [
        {
          "output_type": "execute_result",
          "data": {
            "text/plain": [
              "torch.Size([3, 224, 224])"
            ]
          },
          "metadata": {},
          "execution_count": 43
        }
      ]
    },
    {
      "cell_type": "code",
      "metadata": {
        "id": "4MGNdi1U7yYT"
      },
      "source": [
        "class LeNet(nn.Module):\n",
        "    def __init__(self):\n",
        "        super(LeNet, self).__init__()\n",
        "        self.conv1 = nn.Conv2d(in_channels=3, out_channels=16, kernel_size=3, stride=2, padding=0)\n",
        "        self.bn1 = nn.BatchNorm2d(16)\n",
        "        self.conv2 = nn.Conv2d(in_channels=16, out_channels=32, kernel_size=3, stride=2, padding=0)\n",
        "        self.bn2 = nn.BatchNorm2d(32)\n",
        "        self.conv3 = nn.Conv2d(in_channels=32, out_channels=64, kernel_size=3, stride=2, padding=0)\n",
        "        self.bn3 = nn.BatchNorm2d(64)\n",
        "\n",
        "        self.fc1 = nn.Linear(3*3*64, 20)\n",
        "        self.fc2 = nn.Linear(20, 2)\n",
        "        self.dropout = nn.Dropout(0.5)\n",
        "    \n",
        "    def forward(self, x):\n",
        "        x = F.relu(self.bn1(self.conv1(x)))\n",
        "        x = F.max_pool2d(x, kernel_size=2, stride=2)\n",
        "        x = F.relu(self.bn2(self.conv2(x)))\n",
        "        x = F.max_pool2d(x, kernel_size=2, stride=2)\n",
        "        x = F.relu(self.bn3(self.conv3(x)))\n",
        "        x = F.max_pool2d(x, kernel_size=2, stride=2)\n",
        "        # x = x.view(x.size(0), -1)\n",
        "        x = x.view(-1, 3*3*64)\n",
        "        x = F.relu(self.fc1(x))\n",
        "        x = self.dropout(x)\n",
        "        x = self.fc2(x)\n",
        "        return x"
      ],
      "execution_count": 45,
      "outputs": []
    },
    {
      "cell_type": "code",
      "metadata": {
        "id": "lcVoSwgiVrAQ"
      },
      "source": [
        "net = LeNet()\n",
        "net = net.to(\"cuda\")"
      ],
      "execution_count": 46,
      "outputs": []
    },
    {
      "cell_type": "code",
      "metadata": {
        "id": "nP5l8hpJVudi"
      },
      "source": [
        "criterion = nn.CrossEntropyLoss()\n",
        "optimizer = optim.AdamW(net.parameters(), lr = 0.001)"
      ],
      "execution_count": 49,
      "outputs": []
    },
    {
      "cell_type": "code",
      "metadata": {
        "id": "gAR43ZOEXJjj",
        "colab": {
          "base_uri": "https://localhost:8080/"
        },
        "outputId": "1cf5f97f-e299-4ae3-87fd-6b84d343309a"
      },
      "source": [
        "best_acc = 0\n",
        "for epoch in range(3):\n",
        "    net.train()\n",
        "    running_loss=0\n",
        "    for batch_idx, (img,label) in enumerate(trainloader):\n",
        "        img = img.to(\"cuda\")\n",
        "        label = label.to(\"cuda\")\n",
        "        optimizer.zero_grad()\n",
        "        output = net(img)\n",
        "        loss = criterion(output, label)\n",
        "        loss.backward()\n",
        "        optimizer.step()\n",
        "        running_loss += loss.item()\n",
        "    print(\"training loss:\", running_loss/len(trainloader))\n",
        "\n",
        "    net.eval()\n",
        "    test_loss = 0\n",
        "    correct = 0\n",
        "    total = 0\n",
        "    with torch.no_grad():\n",
        "        for _, (img,label) in enumerate(testloader):\n",
        "            img = img.to(\"cuda\")\n",
        "            label = label.to(\"cuda\")\n",
        "\n",
        "            output = net(img)\n",
        "            loss = criterion(output, label)\n",
        "            test_loss += loss.item()\n",
        "            _, predict = torch.max(output.data, 1)\n",
        "            total += label.size(0)\n",
        "            correct += (predict == label).sum().item()\n",
        "    print(f\"Test loss: {test_loss/len(testloader)}\")\n",
        "    print(f\"Accuracy: {100*correct/total}\")\n",
        "\n",
        "    acc = 100*correct/total\n",
        "    if acc > best_acc:\n",
        "        print(\"Saving...\")\n",
        "        state = {\n",
        "            \"net\": net.state_dict(),\n",
        "            \"acc\": acc,\n",
        "            \"epoch\": epoch\n",
        "        }\n",
        "        os.makedirs(\"./checkpoint/\", exist_ok=True)\n",
        "        torch.save(state, \"./checkpoint/dogcat.pth\")\n",
        "        best_acc = acc"
      ],
      "execution_count": 51,
      "outputs": [
        {
          "output_type": "stream",
          "name": "stdout",
          "text": [
            "training loss: 0.4827803533554077\n",
            "Test loss: 0.4724229831153002\n",
            "Accuracy: 78.22516025641026\n",
            "Saving...\n",
            "training loss: 0.4501970765113831\n",
            "Test loss: 0.4170389840236077\n",
            "Accuracy: 81.61057692307692\n",
            "Saving...\n",
            "training loss: 0.426973827791214\n",
            "Test loss: 0.3931693587547693\n",
            "Accuracy: 82.51201923076923\n",
            "Saving...\n"
          ]
        }
      ]
    },
    {
      "cell_type": "code",
      "metadata": {
        "id": "1wQmEq9tOA2f"
      },
      "source": [
        ""
      ],
      "execution_count": 34,
      "outputs": []
    },
    {
      "cell_type": "code",
      "metadata": {
        "id": "e5n0K0Tr4Ihi"
      },
      "source": [
        ""
      ],
      "execution_count": null,
      "outputs": []
    }
  ]
}