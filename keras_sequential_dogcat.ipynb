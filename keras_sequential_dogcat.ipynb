{
  "nbformat": 4,
  "nbformat_minor": 0,
  "metadata": {
    "colab": {
      "name": "keras_sequential_dogcat.ipynb",
      "provenance": [],
      "mount_file_id": "11SrFRYlXfqgAaAFac_jGXN11Qf6wQ5BK",
      "authorship_tag": "ABX9TyN2OLAauYASk5lGQsvygS8w",
      "include_colab_link": true
    },
    "kernelspec": {
      "name": "python3",
      "display_name": "Python 3"
    },
    "language_info": {
      "name": "python"
    },
    "accelerator": "GPU"
  },
  "cells": [
    {
      "cell_type": "markdown",
      "metadata": {
        "id": "view-in-github",
        "colab_type": "text"
      },
      "source": [
        "<a href=\"https://colab.research.google.com/github/duongquangvinh/Fundamental-Machine-Learning-model/blob/main/keras_sequential_dogcat.ipynb\" target=\"_parent\"><img src=\"https://colab.research.google.com/assets/colab-badge.svg\" alt=\"Open In Colab\"/></a>"
      ]
    },
    {
      "cell_type": "code",
      "metadata": {
        "id": "snrCEvt9MUbo"
      },
      "source": [
        "from tensorflow.keras.models import Sequential\n",
        "from tensorflow.keras.layers import Conv2D, Dense, MaxPool2D, Dropout, Flatten\n",
        "from tensorflow.keras.preprocessing.image import ImageDataGenerator\n",
        "\n",
        "from tensorflow.keras.optimizers import Adam\n",
        "import os\n",
        "import random\n",
        "import shutil"
      ],
      "execution_count": 1,
      "outputs": []
    },
    {
      "cell_type": "markdown",
      "metadata": {
        "id": "hZ5dSiBCfsbk"
      },
      "source": [
        "## Preprocess Data"
      ]
    },
    {
      "cell_type": "code",
      "metadata": {
        "id": "a9KQ9xd-U1AE"
      },
      "source": [
        "!unzip drive/MyDrive/Dataset/dog_cat.zip"
      ],
      "execution_count": null,
      "outputs": []
    },
    {
      "cell_type": "code",
      "metadata": {
        "id": "msjbirbjeztE"
      },
      "source": [
        "data_dir = \"./dog_cat\"\n",
        "dog = []\n",
        "cat = []\n",
        "for img in os.listdir(data_dir):\n",
        "    label = img.split(\".\")[0]\n",
        "    img_path = os.path.join(data_dir, img)\n",
        "    if label == \"dog\":\n",
        "        dog.append(img_path)\n",
        "    else:\n",
        "        cat.append(img_path)\n",
        "\n",
        "rate = 0.2\n",
        "test_cat = random.sample(cat, int(rate*len(cat)))\n",
        "test_dog = random.sample(dog, int(rate*len(dog)))\n",
        "\n",
        "train_cat = list(set(cat) ^ set(test_cat))\n",
        "train_dog = list(set(dog) ^ set(test_dog))\n",
        "\n",
        "save_dir = \"./data/\"\n",
        "for test_cat_img, test_dog_img in zip(test_cat, test_dog):\n",
        "    img_cat_name = test_cat_img.split(\"/\")[-1]\n",
        "    img_dog_name = test_dog_img.split(\"/\")[-1]\n",
        "\n",
        "    save_test_cat = os.path.join(save_dir,\"test\",\"cat\")\n",
        "    os.makedirs(save_test_cat, exist_ok=True)\n",
        "    save_test_dog = os.path.join(save_dir,\"test\",\"dog\")\n",
        "    os.makedirs(save_test_dog, exist_ok=True)\n",
        "\n",
        "    shutil.copy2(test_cat_img, os.path.join(save_test_cat, img_cat_name))\n",
        "    shutil.copy2(test_dog_img, os.path.join(save_test_dog, img_dog_name))\n",
        "\n",
        "for train_cat_img, train_dog_img in zip(train_cat, train_dog):\n",
        "    img_cat_name = train_cat_img.split(\"/\")[-1]\n",
        "    img_dog_name = train_dog_img.split(\"/\")[-1]\n",
        "\n",
        "    save_train_cat = os.path.join(save_dir,\"train\",\"cat\")\n",
        "    os.makedirs(save_train_cat, exist_ok=True)\n",
        "    save_train_dog = os.path.join(save_dir,\"train\",\"dog\")\n",
        "    os.makedirs(save_train_dog, exist_ok=True)\n",
        "\n",
        "    shutil.copy2(train_cat_img, os.path.join(save_train_cat, img_cat_name))\n",
        "    shutil.copy2(train_dog_img, os.path.join(save_train_dog, img_dog_name))"
      ],
      "execution_count": 10,
      "outputs": []
    },
    {
      "cell_type": "code",
      "metadata": {
        "id": "_ieZABRWf_bI"
      },
      "source": [
        "train_datagen = ImageDataGenerator(rescale=1./255,\n",
        "                                    shear_range=0.2,\n",
        "                                    zoom_range=0.2,\n",
        "                                    horizontal_flip=True)\n",
        "test_datagen = ImageDataGenerator(rescale=1./255)"
      ],
      "execution_count": 2,
      "outputs": []
    },
    {
      "cell_type": "code",
      "metadata": {
        "colab": {
          "base_uri": "https://localhost:8080/"
        },
        "id": "0hOA_ByejGk5",
        "outputId": "38079fbe-3955-4b05-d747-b8a5578baf41"
      },
      "source": [
        "train_set = train_datagen.flow_from_directory('data/train',\n",
        "                                                target_size=(200, 200),\n",
        "                                                batch_size=32,\n",
        "                                                class_mode='binary', shuffle=True)\n",
        "test_set = test_datagen.flow_from_directory('data/test',\n",
        "                                                target_size=(200, 200),\n",
        "                                                batch_size=32,\n",
        "                                                class_mode='binary',shuffle=False)"
      ],
      "execution_count": 3,
      "outputs": [
        {
          "output_type": "stream",
          "name": "stdout",
          "text": [
            "Found 20000 images belonging to 2 classes.\n",
            "Found 5000 images belonging to 2 classes.\n"
          ]
        }
      ]
    },
    {
      "cell_type": "code",
      "metadata": {
        "id": "c3AwzAWntYy8"
      },
      "source": [
        "class LeNet(Sequential):\n",
        "    def __init__(self):\n",
        "        super(LeNet, self).__init__()\n",
        "        self.add(Conv2D(filters=32, kernel_size=(5,5), activation='relu', input_shape=(200, 200, 3), padding=\"same\"))\n",
        "        self.add(MaxPool2D(strides=2))\n",
        "        self.add(Conv2D(filters=48, kernel_size=(5, 5), activation='relu', padding='valid'))\n",
        "        self.add(MaxPool2D(strides=2))\n",
        "        self.add(Flatten())\n",
        "        self.add(Dense(256, activation='relu'))\n",
        "        self.add(Dense(84, activation='relu'))\n",
        "        self.add(Dense(1, activation='softmax'))\n",
        "\n",
        "        self.compile(optimizer=Adam(learning_rate=5e-4),\n",
        "                    loss='binary_crossentropy',\n",
        "                    metrics=['accuracy'])"
      ],
      "execution_count": 6,
      "outputs": []
    },
    {
      "cell_type": "code",
      "metadata": {
        "colab": {
          "base_uri": "https://localhost:8080/"
        },
        "id": "XVP_1vGAs_RI",
        "outputId": "a2e279b1-e768-464a-848c-dee9e814e9f9"
      },
      "source": [
        "net = LeNet()\n",
        "history = net.fit(train_set, steps_per_epoch=(20000//32),epochs= 1,\n",
        "                             validation_data = test_set, validation_steps= (5000//32),\n",
        "                            verbose=1)\n",
        "\n",
        "checkpoint_dir = \"./checkpoint/\"\n",
        "os.makedirs(checkpoint_dir, exist_ok=True)\n",
        "\n",
        "net.save_weights(os.path.join(checkpoint_dir, \"keras_cifar10.h5\"))\n",
        "\n",
        "# evaluate model and save\n",
        "_, acc = net.evaluate(test_set,steps = (5000//32), verbose = 0)\n",
        "print(f\"Accuracy: {acc*100}\")"
      ],
      "execution_count": 9,
      "outputs": [
        {
          "output_type": "stream",
          "name": "stdout",
          "text": [
            "625/625 [==============================] - 2320s 4s/step - loss: 0.6196 - accuracy: 0.5000 - val_loss: 0.5628 - val_accuracy: 0.4992\n",
            "Accuracy: 49.919870495796204\n"
          ]
        }
      ]
    },
    {
      "cell_type": "code",
      "metadata": {
        "id": "li7-uaSLvtd5"
      },
      "source": [
        ""
      ],
      "execution_count": null,
      "outputs": []
    }
  ]
}