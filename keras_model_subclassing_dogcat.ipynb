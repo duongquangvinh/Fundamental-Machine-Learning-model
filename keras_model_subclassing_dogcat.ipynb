{
  "nbformat": 4,
  "nbformat_minor": 0,
  "metadata": {
    "colab": {
      "name": "keras_model_subclassing_dogcat.ipynb",
      "provenance": [],
      "mount_file_id": "1jSZgni6gUZ_hZFKeSfHRz3bwfp8j8hJF",
      "authorship_tag": "ABX9TyOmU41HvHrQWeUWvU0XyMLf",
      "include_colab_link": true
    },
    "kernelspec": {
      "name": "python3",
      "display_name": "Python 3"
    },
    "language_info": {
      "name": "python"
    },
    "accelerator": "GPU"
  },
  "cells": [
    {
      "cell_type": "markdown",
      "metadata": {
        "id": "view-in-github",
        "colab_type": "text"
      },
      "source": [
        "<a href=\"https://colab.research.google.com/github/duongquangvinh/Fundamental-Machine-Learning-model/blob/main/keras_model_subclassing_dogcat.ipynb\" target=\"_parent\"><img src=\"https://colab.research.google.com/assets/colab-badge.svg\" alt=\"Open In Colab\"/></a>"
      ]
    },
    {
      "cell_type": "code",
      "metadata": {
        "id": "0O-qLn2fruQX"
      },
      "source": [
        "from tensorflow.keras.models import Model\n",
        "from tensorflow.keras.layers import Conv2D, Dense, MaxPooling2D, Dropout, Flatten, BatchNormalization, Activation\n",
        "\n",
        "from tensorflow.keras.preprocessing.image import ImageDataGenerator\n",
        "from tensorflow.keras.utils import to_categorical\n",
        "from tensorflow.keras.datasets import cifar10\n",
        "from tensorflow.keras.optimizers import SGD\n",
        "\n",
        "import os\n",
        "import random\n",
        "import shutil"
      ],
      "execution_count": 7,
      "outputs": []
    },
    {
      "cell_type": "code",
      "metadata": {
        "id": "ohnoxwcbsAEg"
      },
      "source": [
        "!unzip drive/MyDrive/Dataset/dog_cat.zip"
      ],
      "execution_count": null,
      "outputs": []
    },
    {
      "cell_type": "code",
      "metadata": {
        "id": "LgtaNWswtkJz"
      },
      "source": [
        "data_dir = \"./dog_cat\"\n",
        "dog = []\n",
        "cat = []\n",
        "for img in os.listdir(data_dir):\n",
        "    label = img.split(\".\")[0]\n",
        "    img_path = os.path.join(data_dir, img)\n",
        "    if label == \"dog\":\n",
        "        dog.append(img_path)\n",
        "    else:\n",
        "        cat.append(img_path)\n",
        "\n",
        "rate = 0.2\n",
        "test_cat = random.sample(cat, int(rate*len(cat)))\n",
        "test_dog = random.sample(dog, int(rate*len(dog)))\n",
        "\n",
        "train_cat = list(set(cat) ^ set(test_cat))\n",
        "train_dog = list(set(dog) ^ set(test_dog))\n",
        "\n",
        "save_dir = \"./data/\"\n",
        "for test_cat_img, test_dog_img in zip(test_cat, test_dog):\n",
        "    img_cat_name = test_cat_img.split(\"/\")[-1]\n",
        "    img_dog_name = test_dog_img.split(\"/\")[-1]\n",
        "\n",
        "    save_test_cat = os.path.join(save_dir,\"test\",\"cat\")\n",
        "    os.makedirs(save_test_cat, exist_ok=True)\n",
        "    save_test_dog = os.path.join(save_dir,\"test\",\"dog\")\n",
        "    os.makedirs(save_test_dog, exist_ok=True)\n",
        "\n",
        "    shutil.copy2(test_cat_img, os.path.join(save_test_cat, img_cat_name))\n",
        "    shutil.copy2(test_dog_img, os.path.join(save_test_dog, img_dog_name))\n",
        "\n",
        "for train_cat_img, train_dog_img in zip(train_cat, train_dog):\n",
        "    img_cat_name = train_cat_img.split(\"/\")[-1]\n",
        "    img_dog_name = train_dog_img.split(\"/\")[-1]\n",
        "\n",
        "    save_train_cat = os.path.join(save_dir,\"train\",\"cat\")\n",
        "    os.makedirs(save_train_cat, exist_ok=True)\n",
        "    save_train_dog = os.path.join(save_dir,\"train\",\"dog\")\n",
        "    os.makedirs(save_train_dog, exist_ok=True)\n",
        "\n",
        "    shutil.copy2(train_cat_img, os.path.join(save_train_cat, img_cat_name))\n",
        "    shutil.copy2(train_dog_img, os.path.join(save_train_dog, img_dog_name))"
      ],
      "execution_count": 4,
      "outputs": []
    },
    {
      "cell_type": "code",
      "metadata": {
        "id": "vEQqTSy2t2Hk"
      },
      "source": [
        "train_datagen = ImageDataGenerator(rescale=1./255,\n",
        "                                    shear_range=0.2,\n",
        "                                    zoom_range=0.2,\n",
        "                                    horizontal_flip=True)\n",
        "test_datagen = ImageDataGenerator(rescale=1./255)"
      ],
      "execution_count": 2,
      "outputs": []
    },
    {
      "cell_type": "code",
      "metadata": {
        "colab": {
          "base_uri": "https://localhost:8080/"
        },
        "id": "rqu3omCEt62_",
        "outputId": "d2ab678f-4d5c-4335-a2cd-16b3cbf9822a"
      },
      "source": [
        "train_set = train_datagen.flow_from_directory('data/train',\n",
        "                                                target_size=(200, 200),\n",
        "                                                batch_size=32,\n",
        "                                                class_mode='binary', shuffle=True)\n",
        "test_set = test_datagen.flow_from_directory('data/test',\n",
        "                                                target_size=(200, 200),\n",
        "                                                batch_size=32,\n",
        "                                                class_mode='binary',shuffle=False)"
      ],
      "execution_count": 3,
      "outputs": [
        {
          "output_type": "stream",
          "name": "stdout",
          "text": [
            "Found 20000 images belonging to 2 classes.\n",
            "Found 5000 images belonging to 2 classes.\n"
          ]
        }
      ]
    },
    {
      "cell_type": "code",
      "metadata": {
        "id": "rasHlMmlt9C7"
      },
      "source": [
        "class LeNet(Model):\n",
        "    def __init__(self):\n",
        "        super(LeNet, self).__init__()\n",
        "        self.conv1 = Conv2D(32, (5,5), padding=\"same\")\n",
        "        self.act1 = Activation(\"relu\")\n",
        "        self.pool1 = MaxPooling2D(pool_size=(2, 2))\n",
        "        self.conv2 = Conv2D(48, (5,5), padding=\"valid\")\n",
        "        self.act2 = Activation(\"relu\")\n",
        "        self.pool2 = MaxPooling2D(pool_size=(2, 2))\n",
        "        self.flatten = Flatten()\n",
        "        self.dense1 = Dense(256)\n",
        "        self.act3 = Activation(\"relu\")\n",
        "        self.dense2 = Dense(84)\n",
        "        self.act4 = Activation(\"relu\")\n",
        "        self.dense3 = Dense(1)\n",
        "        self.act5 = Activation(\"softmax\")\n",
        "    def call(self, inputs):\n",
        "        x = self.pool1(self.act1(self.conv1(inputs)))\n",
        "        x = self.pool2(self.act2(self.conv2(x)))\n",
        "        x = self.flatten(x)\n",
        "        x = self.act3(self.dense1(x))\n",
        "        x = self.act4(self.dense2(x))\n",
        "        x = self.act5(self.dense3(x))\n",
        "        return x"
      ],
      "execution_count": 10,
      "outputs": []
    },
    {
      "cell_type": "code",
      "metadata": {
        "colab": {
          "base_uri": "https://localhost:8080/"
        },
        "id": "ruCrYyPIuCKT",
        "outputId": "e40cf4d7-1cb7-48ee-c2f8-e1dd379be3f4"
      },
      "source": [
        "net = LeNet()\n",
        "net.compile(optimizer=SGD(learning_rate=0.01, decay=1e-6, momentum=0.9, nesterov=True),\n",
        "                    loss=\"binary_crossentropy\",\n",
        "                    metrics=['accuracy'])\n",
        "history = net.fit(train_set, steps_per_epoch=(20000//32),epochs= 5,\n",
        "                             validation_data = test_set, validation_steps= (5000//32),\n",
        "                            verbose=1)\n",
        "\n",
        "checkpoint_dir = \"./checkpoint/\"\n",
        "os.makedirs(checkpoint_dir, exist_ok=True)\n",
        "\n",
        "net.save_weights(os.path.join(checkpoint_dir, \"keras_cifar10.h5\"))\n",
        "\n",
        "# evaluate model and save\n",
        "_, acc = net.evaluate(test_set,steps = (5000//32), verbose = 0)\n",
        "print(f\"Accuracy: {acc*100}\")"
      ],
      "execution_count": 12,
      "outputs": [
        {
          "output_type": "stream",
          "name": "stdout",
          "text": [
            "Epoch 1/5\n",
            "625/625 [==============================] - 268s 428ms/step - loss: 0.6722 - accuracy: 0.5856 - val_loss: 0.6201 - val_accuracy: 0.6581\n",
            "Epoch 2/5\n",
            "625/625 [==============================] - 269s 430ms/step - loss: 0.6001 - accuracy: 0.6751 - val_loss: 0.5490 - val_accuracy: 0.7115\n",
            "Epoch 3/5\n",
            "625/625 [==============================] - 270s 432ms/step - loss: 0.5232 - accuracy: 0.7402 - val_loss: 0.4768 - val_accuracy: 0.7762\n",
            "Epoch 4/5\n",
            "625/625 [==============================] - 269s 431ms/step - loss: 0.4775 - accuracy: 0.7671 - val_loss: 0.4453 - val_accuracy: 0.7927\n",
            "Epoch 5/5\n",
            "625/625 [==============================] - 269s 430ms/step - loss: 0.4425 - accuracy: 0.7936 - val_loss: 0.4472 - val_accuracy: 0.7917\n",
            "Accuracy: 79.16666865348816\n"
          ]
        }
      ]
    },
    {
      "cell_type": "code",
      "metadata": {
        "id": "yvEkQ1GCvwp9"
      },
      "source": [
        ""
      ],
      "execution_count": null,
      "outputs": []
    }
  ]
}