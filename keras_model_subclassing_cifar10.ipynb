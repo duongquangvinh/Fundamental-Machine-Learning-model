{
  "nbformat": 4,
  "nbformat_minor": 0,
  "metadata": {
    "colab": {
      "name": "keras_model_subclassing_cifar10.ipynb",
      "provenance": [],
      "authorship_tag": "ABX9TyMvUOgcJnT1xDU2fIwVcCYA",
      "include_colab_link": true
    },
    "kernelspec": {
      "name": "python3",
      "display_name": "Python 3"
    },
    "language_info": {
      "name": "python"
    },
    "accelerator": "GPU"
  },
  "cells": [
    {
      "cell_type": "markdown",
      "metadata": {
        "id": "view-in-github",
        "colab_type": "text"
      },
      "source": [
        "<a href=\"https://colab.research.google.com/github/duongquangvinh/Fundamental-Machine-Learning-model/blob/main/keras_model_subclassing_cifar10.ipynb\" target=\"_parent\"><img src=\"https://colab.research.google.com/assets/colab-badge.svg\" alt=\"Open In Colab\"/></a>"
      ]
    },
    {
      "cell_type": "code",
      "metadata": {
        "id": "VZv1IwbaS3Xx"
      },
      "source": [
        "from tensorflow.keras.models import Model\n",
        "from tensorflow.keras.layers import Conv2D, Dense, MaxPooling2D, Dropout, Flatten, BatchNormalization, Activation\n",
        "\n",
        "from tensorflow.keras.losses import categorical_crossentropy\n",
        "from tensorflow.keras.preprocessing.image import ImageDataGenerator\n",
        "from tensorflow.keras.utils import to_categorical\n",
        "from tensorflow.keras.datasets import cifar10\n",
        "from tensorflow.keras.optimizers import Adam\n",
        "import os"
      ],
      "execution_count": 1,
      "outputs": []
    },
    {
      "cell_type": "code",
      "metadata": {
        "id": "XnkpshEVlGme"
      },
      "source": [
        "((trainX, trainY), (testX, testY)) = cifar10.load_data()\n",
        "\n",
        "# scale the data to the range [0, 1]\n",
        "trainX = trainX.astype(\"float32\") / 255.0\n",
        "testX = testX.astype(\"float32\") / 255.0\n",
        "\n",
        "# Convert class vectors to binary class matrices.\n",
        "num_classes = 10\n",
        "trainY = to_categorical(trainY, num_classes)\n",
        "testY = to_categorical(testY, num_classes)\n",
        "\n",
        "# Data normalization\n",
        "trainX = trainX.astype('float32')\n",
        "testX = testX.astype('float32')\n",
        "trainX /= 255\n",
        "testX /= 255\n",
        "\n",
        "# Data augmentation\n",
        "datagen = ImageDataGenerator(width_shift_range=0.1, height_shift_range=0.1, horizontal_flip=True)"
      ],
      "execution_count": 2,
      "outputs": []
    },
    {
      "cell_type": "code",
      "metadata": {
        "id": "5hGofadXT4GS"
      },
      "source": [
        "class LeNet(Model):\n",
        "    def __init__(self):\n",
        "        super(LeNet, self).__init__()\n",
        "        self.conv1 = Conv2D(32, (5,5), padding=\"same\")\n",
        "        self.act1 = Activation(\"relu\")\n",
        "        self.pool1 = MaxPooling2D(pool_size=(2, 2))\n",
        "        self.conv2 = Conv2D(48, (5,5), padding=\"valid\")\n",
        "        self.act2 = Activation(\"relu\")\n",
        "        self.pool2 = MaxPooling2D(pool_size=(2, 2))\n",
        "        self.flatten = Flatten()\n",
        "        self.dense1 = Dense(256)\n",
        "        self.act3 = Activation(\"relu\")\n",
        "        self.dense2 = Dense(84)\n",
        "        self.act4 = Activation(\"relu\")\n",
        "        self.dense3 = Dense(10)\n",
        "        self.act5 = Activation(\"softmax\")\n",
        "    def call(self, inputs):\n",
        "        x = self.pool1(self.act1(self.conv1(inputs)))\n",
        "        x = self.pool2(self.act2(self.conv2(x)))\n",
        "        x = self.flatten(x)\n",
        "        x = self.act3(self.dense1(x))\n",
        "        x = self.act4(self.dense2(x))\n",
        "        x = self.act5(self.dense3(x))\n",
        "        return x"
      ],
      "execution_count": 3,
      "outputs": []
    },
    {
      "cell_type": "code",
      "metadata": {
        "colab": {
          "base_uri": "https://localhost:8080/"
        },
        "id": "iDhzWAaplD_c",
        "outputId": "b6fcda9f-6be7-4d28-a672-daa706b74899"
      },
      "source": [
        "net = LeNet()\n",
        "net.compile(optimizer=Adam(learning_rate=5e-4),\n",
        "                    loss=categorical_crossentropy,\n",
        "                    metrics=['accuracy'])\n",
        "history = net.fit(datagen.flow(trainX, trainY, batch_size=32),\n",
        "                  steps_per_epoch=len(trainX)/32,\n",
        "\t            validation_data=(testX, testY),\n",
        "\t            epochs=5, verbose=1)\n",
        "\n",
        "checkpoint_dir = \"./checkpoint/\"\n",
        "os.makedirs(checkpoint_dir, exist_ok=True)\n",
        "\n",
        "net.save_weights(os.path.join(checkpoint_dir, \"keras_cifar10.h5\"))\n",
        "\n",
        "# evaluate model and save\n",
        "_, acc = net.evaluate(testX, testY, verbose=0)\n",
        "print(f\"Accuracy: {acc*100}\")"
      ],
      "execution_count": 4,
      "outputs": [
        {
          "output_type": "stream",
          "name": "stdout",
          "text": [
            "Epoch 1/5\n",
            "1562/1562 [==============================] - 37s 23ms/step - loss: 2.0843 - accuracy: 0.2252 - val_loss: 1.9621 - val_accuracy: 0.2782\n",
            "Epoch 2/5\n",
            "1562/1562 [==============================] - 35s 22ms/step - loss: 1.9536 - accuracy: 0.2829 - val_loss: 1.8739 - val_accuracy: 0.3175\n",
            "Epoch 3/5\n",
            "1562/1562 [==============================] - 36s 23ms/step - loss: 1.8481 - accuracy: 0.3233 - val_loss: 1.7569 - val_accuracy: 0.3644\n",
            "Epoch 4/5\n",
            "1562/1562 [==============================] - 36s 23ms/step - loss: 1.7509 - accuracy: 0.3661 - val_loss: 1.6472 - val_accuracy: 0.4157\n",
            "Epoch 5/5\n",
            "1562/1562 [==============================] - 36s 23ms/step - loss: 1.6838 - accuracy: 0.3930 - val_loss: 1.5897 - val_accuracy: 0.4351\n",
            "Accuracy: 43.50999891757965\n"
          ]
        }
      ]
    },
    {
      "cell_type": "code",
      "metadata": {
        "id": "anMEHJq9pUo7"
      },
      "source": [
        ""
      ],
      "execution_count": null,
      "outputs": []
    }
  ]
}