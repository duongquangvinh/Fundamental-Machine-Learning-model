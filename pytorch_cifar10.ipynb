{
  "nbformat": 4,
  "nbformat_minor": 0,
  "metadata": {
    "colab": {
      "name": "pytorch_cifar10.ipynb",
      "provenance": [],
      "authorship_tag": "ABX9TyN/ds52yoS6CgPwWuWeTPKd",
      "include_colab_link": true
    },
    "kernelspec": {
      "name": "python3",
      "display_name": "Python 3"
    },
    "language_info": {
      "name": "python"
    },
    "accelerator": "GPU"
  },
  "cells": [
    {
      "cell_type": "markdown",
      "metadata": {
        "id": "view-in-github",
        "colab_type": "text"
      },
      "source": [
        "<a href=\"https://colab.research.google.com/github/duongquangvinh/Fundamental-Machine-Learning-model/blob/main/pytorch_cifar10.ipynb\" target=\"_parent\"><img src=\"https://colab.research.google.com/assets/colab-badge.svg\" alt=\"Open In Colab\"/></a>"
      ]
    },
    {
      "cell_type": "markdown",
      "metadata": {
        "id": "T1DAWpgCZrMk"
      },
      "source": [
        "## Import Modules"
      ]
    },
    {
      "cell_type": "code",
      "metadata": {
        "id": "O5Vg9CmKHA7A"
      },
      "source": [
        "import torch\n",
        "import torch.nn as nn\n",
        "import torch.optim as optim\n",
        "import torch.nn.functional as F\n",
        "import torch.backends.cudnn as cudnn\n",
        "\n",
        "import torchvision\n",
        "import torchvision.transforms as transforms\n",
        "\n",
        "import os\n",
        "import argparse\n",
        "from tqdm import tqdm\n",
        "import numpy as np"
      ],
      "execution_count": null,
      "outputs": []
    },
    {
      "cell_type": "markdown",
      "metadata": {
        "id": "dFs8K3gIZvEG"
      },
      "source": [
        "## Data Preprocess"
      ]
    },
    {
      "cell_type": "code",
      "metadata": {
        "id": "gaZT0nyOvULk"
      },
      "source": [
        "transform_train = transforms.Compose([transforms.RandomCrop(32, padding=4),\n",
        "    transforms.RandomHorizontalFlip(),\n",
        "    transforms.ToTensor(),\n",
        "    transforms.Normalize((0.4914, 0.4822, 0.4465), (0.2023, 0.1994, 0.2010))])\n",
        "\n",
        "transform_test = transforms.Compose([\n",
        "    transforms.ToTensor(),\n",
        "    transforms.Normalize((0.4914, 0.4822, 0.4465), (0.2023, 0.1994, 0.2010)),\n",
        "])"
      ],
      "execution_count": null,
      "outputs": []
    },
    {
      "cell_type": "code",
      "metadata": {
        "id": "1Qmz2X1Rw1z3"
      },
      "source": [
        "trainset = torchvision.datasets.CIFAR10(root=\"./CIFAR10\", train=True, transform=transform_train, download=True)\n",
        "trainloader = torch.utils.data.DataLoader(trainset, batch_size=64, shuffle=True, num_workers=2, drop_last=True)\n",
        "\n",
        "testset = torchvision.datasets.CIFAR10(root=\"./CIFAR10\", train=False, transform=transform_test, download=True)\n",
        "testloader = torch.utils.data.DataLoader(testset, batch_size=64, shuffle=False, num_workers=2, drop_last=True)"
      ],
      "execution_count": null,
      "outputs": []
    },
    {
      "cell_type": "markdown",
      "metadata": {
        "id": "5HCWbi2XZmvb"
      },
      "source": [
        "## Define Model"
      ]
    },
    {
      "cell_type": "code",
      "metadata": {
        "id": "JxYGSUGnAUg4"
      },
      "source": [
        "class LeNet(nn.Module):\n",
        "    def __init__(self):\n",
        "        super(LeNet, self).__init__()\n",
        "        self.conv1 = nn.Conv2d(in_channels=3, out_channels=16, kernel_size=3, stride=1, padding=1)\n",
        "        self.conv2 = nn.Conv2d(in_channels=16, out_channels=32, kernel_size=3, stride=1, padding=1)\n",
        "        self.conv3 = nn.Conv2d(in_channels=32, out_channels=64, kernel_size=3, stride=1, padding=1)\n",
        "        \n",
        "        # We will use 3 maxpool, therefore input size will decrease by a factor of 2 in 3 times (32->16->8->4)\n",
        "        self.fc1 = nn.Linear(4*4*64, 500)\n",
        "        self.dropout1 = nn.Dropout(0.5)\n",
        "        self.fc2 = nn.Linear(500, 10)\n",
        "\n",
        "    def forward(self, x):\n",
        "        x = F.relu(self.conv1(x))\n",
        "        x = F.max_pool2d(x, kernel_size=2, stride=2)\n",
        "        x = F.relu(self.conv2(x))\n",
        "        x = F.max_pool2d(x, kernel_size=2, stride=2)\n",
        "        x = F.relu(self.conv3(x))\n",
        "        x = F.max_pool2d(x, kernel_size=2, stride=2)\n",
        "        x = x.view(-1, 4*4*64)\n",
        "        x = F.relu(self.fc1(x))\n",
        "        \n",
        "        # Applying dropout b/t layers which exchange highest parameters. This is a good practice\n",
        "        x = self.dropout1(x)\n",
        "        x = self.fc2(x)\n",
        "        return x"
      ],
      "execution_count": null,
      "outputs": []
    },
    {
      "cell_type": "code",
      "metadata": {
        "id": "eMO1Oz_YZHiB"
      },
      "source": [
        "net = LeNet()\n",
        "net = net.to(\"cuda\")"
      ],
      "execution_count": null,
      "outputs": []
    },
    {
      "cell_type": "markdown",
      "metadata": {
        "id": "PcxeXrHeZ5UT"
      },
      "source": [
        "## Training part"
      ]
    },
    {
      "cell_type": "code",
      "metadata": {
        "id": "lgZkqNqsZf13"
      },
      "source": [
        "criterion = nn.CrossEntropyLoss()\n",
        "optimizer = optim.SGD(net.parameters(), lr=0.001, momentum=0.9, weight_decay=5e-4)\n",
        "scheduler = torch.optim.lr_scheduler.MultiStepLR(optimizer, milestones=[150, 200], gamma=0.1)"
      ],
      "execution_count": null,
      "outputs": []
    },
    {
      "cell_type": "code",
      "metadata": {
        "colab": {
          "base_uri": "https://localhost:8080/"
        },
        "id": "9OOrvKPtagyR",
        "outputId": "9f5e8a2d-ef41-4e31-ada3-fbe83e3b0bf9"
      },
      "source": [
        "best_acc = 0\n",
        "for epoch in range(0,20):\n",
        "    net.train()\n",
        "    running_loss = 0.0\n",
        "    for batch_idx, (imgs, labels) in enumerate(trainloader):\n",
        "        img = imgs.to(\"cuda\")\n",
        "        label = labels.to(\"cuda\")\n",
        "        optimizer.zero_grad()\n",
        "        output = net(img)\n",
        "        loss = criterion(output, label)\n",
        "        loss.backward()\n",
        "        optimizer.step()\n",
        "        scheduler.step()\n",
        "        running_loss += loss.item()\n",
        "    print(f\"Training loss: {running_loss/len(trainloader)}\")\n",
        "\n",
        "    net.eval()\n",
        "    test_loss = 0\n",
        "    correct = 0\n",
        "    total = 0\n",
        "    with torch.no_grad():\n",
        "        for batch_idx, (imgs, labels) in enumerate(testloader):\n",
        "            img = imgs.to(\"cuda\")\n",
        "            label = labels.to(\"cuda\")\n",
        "            output = net(img)\n",
        "            loss = criterion(output, label)\n",
        "            test_loss += loss.item()\n",
        "            _, predict = torch.max(output.data, 1)\n",
        "            total += label.size(0)\n",
        "            correct += (predict == label).sum().item()\n",
        "    print(f\"Test loss: {test_loss/len(testloader)}\")\n",
        "    print(f\"Accuracy: {100*correct/total}\")\n",
        "\n",
        "    acc = 100.*correct/total\n",
        "    if acc > best_acc:\n",
        "        print('Saving..')\n",
        "        state = {\n",
        "            'net': net.state_dict(),\n",
        "            'acc': acc,\n",
        "            'epoch': epoch,\n",
        "        }\n",
        "        if not os.path.isdir('checkpoint'):\n",
        "            os.mkdir('checkpoint')\n",
        "        torch.save(state, './checkpoint/cifar10_ckpt.pth')\n",
        "        best_acc = acc"
      ],
      "execution_count": null,
      "outputs": [
        {
          "output_type": "stream",
          "name": "stdout",
          "text": [
            "Training loss: 1.9717460505941002\n",
            "Test loss: 1.9174343294058092\n",
            "Accuracy: 32.44190705128205\n",
            "Saving..\n",
            "Training loss: 1.962307456360889\n",
            "Test loss: 1.9134767980147631\n",
            "Accuracy: 32.44190705128205\n",
            "Training loss: 1.9557198725650313\n",
            "Test loss: 1.9100650250911713\n",
            "Accuracy: 32.522035256410255\n",
            "Saving..\n",
            "Training loss: 1.9556984822057122\n",
            "Test loss: 1.9064268668492634\n",
            "Accuracy: 32.58213141025641\n",
            "Saving..\n",
            "Training loss: 1.9492150013944403\n",
            "Test loss: 1.90194848103401\n",
            "Accuracy: 32.62219551282051\n",
            "Saving..\n",
            "Training loss: 1.9455132325693831\n",
            "Test loss: 1.8987674881250431\n",
            "Accuracy: 32.79246794871795\n",
            "Saving..\n",
            "Training loss: 1.9420583673994916\n",
            "Test loss: 1.893985234774076\n",
            "Accuracy: 32.93269230769231\n",
            "Saving..\n",
            "Training loss: 1.9403825461024968\n",
            "Test loss: 1.8905585209528606\n",
            "Accuracy: 33.072916666666664\n",
            "Saving..\n",
            "Training loss: 1.936093641762239\n",
            "Test loss: 1.8871068641161308\n",
            "Accuracy: 33.2431891025641\n",
            "Saving..\n",
            "Training loss: 1.933196950813567\n",
            "Test loss: 1.8830004571340022\n",
            "Accuracy: 33.483573717948715\n",
            "Saving..\n",
            "Training loss: 1.932884158764545\n",
            "Test loss: 1.8805767916716063\n",
            "Accuracy: 33.47355769230769\n",
            "Training loss: 1.9266925728122648\n",
            "Test loss: 1.8767563715959206\n",
            "Accuracy: 33.60376602564103\n",
            "Saving..\n",
            "Training loss: 1.9224436733389938\n",
            "Test loss: 1.8730007432974303\n",
            "Accuracy: 33.79407051282051\n",
            "Saving..\n",
            "Training loss: 1.922270918930386\n",
            "Test loss: 1.86995724378488\n",
            "Accuracy: 33.74399038461539\n",
            "Training loss: 1.9183523639674072\n",
            "Test loss: 1.8679701999211922\n",
            "Accuracy: 33.78405448717949\n",
            "Training loss: 1.9148608296537215\n",
            "Test loss: 1.863345321172323\n",
            "Accuracy: 33.95432692307692\n",
            "Saving..\n",
            "Training loss: 1.9145061261522633\n",
            "Test loss: 1.8607074748247097\n",
            "Accuracy: 34.04447115384615\n",
            "Saving..\n",
            "Training loss: 1.9110786760662337\n",
            "Test loss: 1.8589174716900556\n",
            "Accuracy: 34.05448717948718\n",
            "Saving..\n",
            "Training loss: 1.9098890597017413\n",
            "Test loss: 1.8553271400622833\n",
            "Accuracy: 34.15464743589744\n",
            "Saving..\n",
            "Training loss: 1.905639650727051\n",
            "Test loss: 1.8504174519807866\n",
            "Accuracy: 34.35496794871795\n",
            "Saving..\n"
          ]
        }
      ]
    },
    {
      "cell_type": "code",
      "metadata": {
        "id": "HFs9Ka_Baszf"
      },
      "source": [
        ""
      ],
      "execution_count": null,
      "outputs": []
    }
  ]
}